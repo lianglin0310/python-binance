{
 "cells": [
  {
   "cell_type": "markdown",
   "metadata": {},
   "source": [
    "### login client"
   ]
  },
  {
   "cell_type": "code",
   "execution_count": null,
   "metadata": {
    "collapsed": true
   },
   "outputs": [],
   "source": [
    "from binance.client import Client"
   ]
  },
  {
   "cell_type": "code",
   "execution_count": null,
   "metadata": {
    "collapsed": true
   },
   "outputs": [],
   "source": [
    "api_key = 'your_key';\n",
    "api_secret = 'your_secret'"
   ]
  },
  {
   "cell_type": "code",
   "execution_count": null,
   "metadata": {
    "collapsed": true
   },
   "outputs": [],
   "source": [
    "client = Client(api_key, api_secret)"
   ]
  },
  {
   "cell_type": "markdown",
   "metadata": {},
   "source": [
    "### get all orders; get order; get_open_orders; get_asset_balance; etc\n",
    "note that market order doesn't show the price"
   ]
  },
  {
   "cell_type": "code",
   "execution_count": null,
   "metadata": {
    "collapsed": true
   },
   "outputs": [],
   "source": [
    "#?Client.get_all_orders"
   ]
  },
  {
   "cell_type": "code",
   "execution_count": null,
   "metadata": {
    "collapsed": true
   },
   "outputs": [],
   "source": [
    "#orders = client.get_all_orders(symbol='NEOUSDT')"
   ]
  },
  {
   "cell_type": "code",
   "execution_count": null,
   "metadata": {
    "collapsed": true
   },
   "outputs": [],
   "source": [
    "#order = client.get_order(symbol='NEOUSDT', orderId=7841515)\n",
    "#print order['price']"
   ]
  },
  {
   "cell_type": "code",
   "execution_count": null,
   "metadata": {
    "collapsed": true
   },
   "outputs": [],
   "source": [
    "#for j in xrange(len(orders)-1, len(orders)-10, -1):\n",
    "#    print orders[j]['status'], \"   \", orders[j]['price'], \"  \", orders[j]['side'], \"  \", orders[j]['orderId']"
   ]
  },
  {
   "cell_type": "code",
   "execution_count": null,
   "metadata": {
    "collapsed": true
   },
   "outputs": [],
   "source": [
    "# order = client.get_open_orders(symbol=\"NEOUSDT\")\n",
    "# order = client.get_asset_balance(asset=\"BNB\")\n",
    "# print order"
   ]
  },
  {
   "cell_type": "markdown",
   "metadata": {},
   "source": [
    "### place and cancel an order"
   ]
  },
  {
   "cell_type": "markdown",
   "metadata": {},
   "source": [
    "#### create BUY and SELL limit orders  of NEO/USDT, quantity is 1, with price 146:"
   ]
  },
  {
   "cell_type": "code",
   "execution_count": null,
   "metadata": {
    "collapsed": true
   },
   "outputs": [],
   "source": [
    "order = client.create_order(\n",
    "    symbol='NEOUSDT',\n",
    "    side='BUY',\n",
    "    type='LIMIT',\n",
    "    timeInForce='GTC',\n",
    "    quantity=1,\n",
    "    price='146')\n"
   ]
  },
  {
   "cell_type": "code",
   "execution_count": null,
   "metadata": {
    "collapsed": true
   },
   "outputs": [],
   "source": [
    "order = client.create_order(\n",
    "    symbol='NEOUSDT',\n",
    "    side='SELL',\n",
    "    type='LIMIT',\n",
    "    timeInForce='GTC',\n",
    "    quantity=1,\n",
    "    price='146')"
   ]
  },
  {
   "cell_type": "code",
   "execution_count": null,
   "metadata": {
    "collapsed": true
   },
   "outputs": [],
   "source": [
    "print order"
   ]
  },
  {
   "cell_type": "markdown",
   "metadata": {},
   "source": [
    "### cancel order"
   ]
  },
  {
   "cell_type": "code",
   "execution_count": null,
   "metadata": {
    "collapsed": true
   },
   "outputs": [],
   "source": [
    "result = client.cancel_order(\n",
    "    symbol='NEOUSDT',\n",
    "    orderId=order['orderId'])"
   ]
  },
  {
   "cell_type": "code",
   "execution_count": null,
   "metadata": {
    "collapsed": true
   },
   "outputs": [],
   "source": [
    "print result"
   ]
  },
  {
   "cell_type": "code",
   "execution_count": null,
   "metadata": {
    "collapsed": true
   },
   "outputs": [],
   "source": [
    "info = client.get_symbol_info('BNBBTC')"
   ]
  },
  {
   "cell_type": "code",
   "execution_count": null,
   "metadata": {
    "collapsed": true,
    "scrolled": true
   },
   "outputs": [],
   "source": [
    "import json\n",
    "print json.dumps(info, indent=1)"
   ]
  },
  {
   "cell_type": "code",
   "execution_count": null,
   "metadata": {
    "collapsed": true
   },
   "outputs": [],
   "source": [
    "# depth = client.get_order_book(symbol='BNBBTC')\n",
    "# print json.dumps(depth, indent=1)\n",
    "# print depth['bids']"
   ]
  },
  {
   "cell_type": "code",
   "execution_count": null,
   "metadata": {
    "collapsed": true
   },
   "outputs": [],
   "source": [
    "# ?client.create_order"
   ]
  },
  {
   "cell_type": "code",
   "execution_count": null,
   "metadata": {
    "collapsed": true
   },
   "outputs": [],
   "source": [
    "# candles = client.get_klines(symbol='NEOUSDT', interval=Client.KLINE_INTERVAL_30MINUTE)"
   ]
  },
  {
   "cell_type": "code",
   "execution_count": null,
   "metadata": {
    "collapsed": true
   },
   "outputs": [],
   "source": [
    "# print json.dumps(candles[-2], indent=1)"
   ]
  },
  {
   "cell_type": "code",
   "execution_count": null,
   "metadata": {
    "collapsed": true
   },
   "outputs": [],
   "source": [
    "# ?Client.get_klines"
   ]
  },
  {
   "cell_type": "code",
   "execution_count": null,
   "metadata": {
    "collapsed": true
   },
   "outputs": [],
   "source": [
    "# ?client.get_ticker()"
   ]
  },
  {
   "cell_type": "markdown",
   "metadata": {},
   "source": [
    "### make a limit order (BUY or SELL), based on current bid/ask queue. The following script tries to be first of the queue. (needs further coding)"
   ]
  },
  {
   "cell_type": "code",
   "execution_count": 3,
   "metadata": {
    "collapsed": true
   },
   "outputs": [],
   "source": [
    "\n",
    "def binanceorder(buyorsell, nums, client):\n",
    "    '''\n",
    "    buyorsell == 'b': BUY; else: SELL\n",
    "    nums: how many quantity you want to trade (the following example only shows NEO/USDT case)\n",
    "    '''\n",
    "    price = client.get_ticker(symbol=\"NEOUSDT\")\n",
    "    gap = float(price['askPrice']) - float(price['bidPrice'])\n",
    "    if buyorsell == 'b':\n",
    "        myprice = float(price['bidPrice']) + gap * 0.01\n",
    "        order = client.create_order(\n",
    "            symbol='NEOUSDT',\n",
    "            side='BUY',\n",
    "            type='LIMIT',\n",
    "            timeInForce='GTC',\n",
    "            quantity=nums,\n",
    "            price=str(float(\"{0:.3f}\".format(myprice))))\n",
    "    else:\n",
    "        myprice =  float(price['askPrice']) - gap*0.1\n",
    "        order = client.create_order(\n",
    "            symbol='NEOUSDT',\n",
    "            side='SELL',\n",
    "            type='LIMIT',\n",
    "            timeInForce='GTC',\n",
    "            quantity=nums,\n",
    "            price=str(float(\"{0:.3f}\".format(myprice))))\n",
    "    return order\n",
    "\n",
    "\n",
    "import time\n",
    "def binanceorder_fight(buyorsell, nums, client):\n",
    "    '''\n",
    "    If the order is FILLED, good! If not, fight for the first place, with 5 sec frequency\n",
    "    buyorsell == 'b': BUY; else: SELL\n",
    "    nums: how many quantity you want to trade (the following example only shows NEO/USDT case)\n",
    "    '''\n",
    "    myorder = binanceorder(buyorsell, nums, client)\n",
    "    time.sleep(0.1)\n",
    "    currentorder = client.get_order(symbol='NEOUSDT', orderId=myorder['orderId'])\n",
    "    while currentorder['status']!='FILLED': # if filed, done!\n",
    "        price = client.get_ticker(symbol=\"NEOUSDT\")\n",
    "        \n",
    "        if currentorder['status'] == 'PARTIALLY_FILLED':\n",
    "            nums = nums - float(currentorder['executedQty'])\n",
    "        \n",
    "        if myorder['side'] == 'SELL' and float(myorder['price']) > float(price['askPrice']):\n",
    "            ## cancel order and reorder\n",
    "            print 'cancel sell and reorder!'\n",
    "            result = client.cancel_order(\n",
    "            symbol='NEOUSDT',\n",
    "            orderId=myorder['orderId'])\n",
    "            myorder = binanceorder(buyorsell, nums, client)\n",
    "        elif myorder['side'] == 'BUY' and float(myorder['price']) < float(price['bidPrice']):\n",
    "            print 'cancel buy and reorder!'\n",
    "            result = client.cancel_order(\n",
    "            symbol='NEOUSDT',\n",
    "            orderId=myorder['orderId'])\n",
    "            myorder = binanceorder(buyorsell, nums, client)\n",
    "        time.sleep(5)\n",
    "        currentorder = client.get_order(symbol='NEOUSDT', orderId=myorder['orderId'])"
   ]
  },
  {
   "cell_type": "code",
   "execution_count": null,
   "metadata": {
    "collapsed": true
   },
   "outputs": [],
   "source": [
    "# example:  binanceorder_fight('b', 0.1, client)"
   ]
  }
 ],
 "metadata": {
  "anaconda-cloud": {},
  "kernelspec": {
   "display_name": "Python 2",
   "language": "python",
   "name": "python2"
  },
  "language_info": {
   "codemirror_mode": {
    "name": "ipython",
    "version": 2
   },
   "file_extension": ".py",
   "mimetype": "text/x-python",
   "name": "python",
   "nbconvert_exporter": "python",
   "pygments_lexer": "ipython2",
   "version": "2.7.14"
  }
 },
 "nbformat": 4,
 "nbformat_minor": 1
}
